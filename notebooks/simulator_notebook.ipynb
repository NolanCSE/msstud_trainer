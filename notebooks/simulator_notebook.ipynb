{
 "cells": [
  {
   "cell_type": "markdown",
   "id": "c0edbcbe",
   "metadata": {},
   "source": [
    "Mississippi Stud Simulation Jupyter Notebook"
   ]
  },
  {
   "cell_type": "code",
   "execution_count": 9,
   "id": "5ab254c4",
   "metadata": {},
   "outputs": [],
   "source": [
    "import os\n",
    "os.chdir(\"C:\\\\Users\\\\giria\\\\OneDrive\\\\Desktop\\\\Desktop\\\\PDFs and Text Docs\\\\Coding Stuff\\\\Casino411\\\\jacobson_m_stud\\\\msstud_trainer\")\n",
    "\n",
    "# Imports\n",
    "import multiprocessing\n",
    "import matplotlib.pyplot as plt\n",
    "import numpy as np\n",
    "from card_lib.deck import Deck\n",
    "from card_lib.simulation.mississippi_simulator import simulate_round\n",
    "from card_lib.simulation.mississippi_simulator import MississippiStudStrategy\n",
    "from core.strategies.basic import BasicStrategy\n",
    "from core.strategies.ap3 import AdvantagePlay3rdStrategy\n",
    "from core.strategies.ap5 import AdvantagePlay5thStrategy"
   ]
  },
  {
   "cell_type": "code",
   "execution_count": 10,
   "id": "f8a6809a",
   "metadata": {},
   "outputs": [],
   "source": [
    "# Simulation Parameters\n",
    "ROUNDS = 10000\n",
    "ANTE = 5\n",
    "STRATEGY = \"ap3\"  # options: \"basic\", \"ap3\", \"ap5\""
   ]
  },
  {
   "cell_type": "code",
   "execution_count": 11,
   "id": "bef3ed16",
   "metadata": {
    "lines_to_next_cell": 1
   },
   "outputs": [],
   "source": [
    "# Strategy Selection\n",
    "if STRATEGY == \"basic\":\n",
    "    strategy = BasicStrategy()\n",
    "elif STRATEGY == \"ap3\":\n",
    "    strategy = AdvantagePlay3rdStrategy()\n",
    "elif STRATEGY == \"ap5\":\n",
    "    strategy = AdvantagePlay5thStrategy()\n",
    "else:\n",
    "    raise ValueError(\"Unknown strategy\")"
   ]
  },
  {
   "cell_type": "code",
   "execution_count": 12,
   "id": "10062f9a",
   "metadata": {
    "lines_to_next_cell": 1
   },
   "outputs": [],
   "source": [
    "class NotebookStrategyWrapper(MississippiStudStrategy):\n",
    "    def __init__(self, strategy):\n",
    "        self.strategy = strategy\n",
    "\n",
    "    def get_bet(self, hole_cards, revealed_community_cards, stage, ante=1, current_total=0, peeked_cards=None):\n",
    "        return self.strategy.get_bet(hole_cards, revealed_community_cards, stage, ante, current_total, peeked_cards)"
   ]
  },
  {
   "cell_type": "code",
   "execution_count": 13,
   "id": "58666ea5",
   "metadata": {},
   "outputs": [],
   "source": [
    "def run_worker(strategy_class_name, ante):\n",
    "    deck = Deck()\n",
    "    deck.shuffle()\n",
    "    strategy_cls = BasicStrategy if strategy_class_name == \"basic\" else (AdvantagePlay3rdStrategy if strategy_class_name == \"ap3\" else AdvantagePlay5thStrategy)\n",
    "    strategy = strategy_cls()\n",
    "    return simulate_round(deck, strategy, ante, ap_revealed_community_cards={'3rd': True if strategy_class_name == \"ap3\" else False, '4th': False, '5th': True if strategy_class_name == \"ap5\" else False})"
   ]
  },
  {
   "cell_type": "code",
   "execution_count": 14,
   "id": "00045f55",
   "metadata": {},
   "outputs": [],
   "source": [
    "def run_parallel_sim(strategy_name=\"basic\", rounds=10000, ante=5, workers=None):\n",
    "    with multiprocessing.Pool(processes=workers or multiprocessing.cpu_count()) as pool:\n",
    "        args = [(strategy_name, ante)] * rounds\n",
    "        profits = pool.starmap(run_worker, args)\n",
    "\n",
    "    profits = np.array(profits)\n",
    "    ev = np.mean(profits)\n",
    "    std_dev = np.std(profits)\n",
    "    win_rate = np.mean(profits > 0)\n",
    "    loss_rate = np.mean(profits < 0)\n",
    "    push_rate = np.mean(profits == 0)\n",
    "\n",
    "    print(f\"EV/hand: ${ev:.2f}\")\n",
    "    print(f\"Std Dev: ${std_dev:.2f}\")\n",
    "    print(f\"Win: {win_rate*100:.1f}%, Loss: {loss_rate*100:.1f}%, Push: {push_rate*100:.1f}%\")\n",
    "\n",
    "    plt.hist(profits, bins=50, alpha=0.7, edgecolor='black')\n",
    "    plt.title(\"Profit Distribution\")\n",
    "    plt.xlabel(\"Profit\")\n",
    "    plt.ylabel(\"Frequency\")\n",
    "    plt.grid(True)\n",
    "    plt.show()"
   ]
  },
  {
   "cell_type": "code",
   "execution_count": 1,
   "id": "a0f00e49",
   "metadata": {},
   "outputs": [
    {
     "ename": "NameError",
     "evalue": "name 'run_parallel_sim' is not defined",
     "output_type": "error",
     "traceback": [
      "\u001b[1;31m---------------------------------------------------------------------------\u001b[0m",
      "\u001b[1;31mNameError\u001b[0m                                 Traceback (most recent call last)",
      "Cell \u001b[1;32mIn[1], line 1\u001b[0m\n\u001b[1;32m----> 1\u001b[0m \u001b[43mrun_parallel_sim\u001b[49m(strategy_name\u001b[38;5;241m=\u001b[39m\u001b[38;5;124m\"\u001b[39m\u001b[38;5;124map3\u001b[39m\u001b[38;5;124m\"\u001b[39m, rounds\u001b[38;5;241m=\u001b[39m\u001b[38;5;241m1\u001b[39m, ante\u001b[38;5;241m=\u001b[39m\u001b[38;5;241m5\u001b[39m, workers\u001b[38;5;241m=\u001b[39m\u001b[38;5;241m4\u001b[39m)\n",
      "\u001b[1;31mNameError\u001b[0m: name 'run_parallel_sim' is not defined"
     ]
    }
   ],
   "source": [
    "run_parallel_sim(strategy_name=\"ap3\", rounds=1, ante=5, workers=4)"
   ]
  }
 ],
 "metadata": {
  "jupytext": {
   "cell_metadata_filter": "-all",
   "main_language": "python",
   "notebook_metadata_filter": "-all"
  },
  "kernelspec": {
   "display_name": "Python (msstud_venv)",
   "language": "python",
   "name": "venv"
  },
  "language_info": {
   "codemirror_mode": {
    "name": "ipython",
    "version": 3
   },
   "file_extension": ".py",
   "mimetype": "text/x-python",
   "name": "python",
   "nbconvert_exporter": "python",
   "pygments_lexer": "ipython3",
   "version": "3.10.11"
  }
 },
 "nbformat": 4,
 "nbformat_minor": 5
}
